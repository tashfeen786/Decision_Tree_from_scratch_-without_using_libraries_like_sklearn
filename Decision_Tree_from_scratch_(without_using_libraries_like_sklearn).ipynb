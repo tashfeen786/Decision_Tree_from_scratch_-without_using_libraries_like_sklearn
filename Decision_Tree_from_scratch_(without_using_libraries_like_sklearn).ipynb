{
  "nbformat": 4,
  "nbformat_minor": 0,
  "metadata": {
    "colab": {
      "provenance": [],
      "authorship_tag": "ABX9TyNTm1RXrN73iB9jqF52GuiX",
      "include_colab_link": true
    },
    "kernelspec": {
      "name": "python3",
      "display_name": "Python 3"
    },
    "language_info": {
      "name": "python"
    }
  },
  "cells": [
    {
      "cell_type": "markdown",
      "metadata": {
        "id": "view-in-github",
        "colab_type": "text"
      },
      "source": [
        "<a href=\"https://colab.research.google.com/github/tashfeen786/Decision_Tree_from_scratch_-without_using_libraries_like_sklearn/blob/main/Decision_Tree_from_scratch_(without_using_libraries_like_sklearn).ipynb\" target=\"_parent\"><img src=\"https://colab.research.google.com/assets/colab-badge.svg\" alt=\"Open In Colab\"/></a>"
      ]
    },
    {
      "cell_type": "code",
      "execution_count": 8,
      "metadata": {
        "id": "PbOgFcNDpke1"
      },
      "outputs": [],
      "source": [
        "# Sample dataset\n",
        "dataset = [\n",
        "    ['Sunny', 'Hot', 'High', 'Weak', 'No'],\n",
        "    ['Sunny', 'Hot', 'High', 'Strong', 'No'],\n",
        "    ['Overcast', 'Hot', 'High', 'Weak', 'Yes'],\n",
        "    ['Rain', 'Mild', 'High', 'Weak', 'Yes'],\n",
        "    ['Rain', 'Cool', 'Normal', 'Weak', 'Yes'],\n",
        "    ['Rain', 'Cool', 'Normal', 'Strong', 'No'],\n",
        "    ['Overcast', 'Cool', 'Normal', 'Strong', 'Yes'],\n",
        "    ['Sunny', 'Mild', 'High', 'Weak', 'No'],\n",
        "    ['Sunny', 'Cool', 'Normal', 'Weak', 'Yes'],\n",
        "    ['Rain', 'Mild', 'Normal', 'Weak', 'Yes'],\n",
        "    ['Sunny', 'Mild', 'Normal', 'Strong', 'Yes'],\n",
        "    ['Overcast', 'Mild', 'High', 'Strong', 'Yes'],\n",
        "    ['Overcast', 'Hot', 'Normal', 'Weak', 'Yes'],\n",
        "    ['Rain', 'Mild', 'High', 'Strong', 'No']\n",
        "]\n",
        "\n",
        "features = ['Outlook', 'Temperature', 'Humidity', 'Wind']\n"
      ]
    },
    {
      "cell_type": "code",
      "source": [
        "import math\n",
        "\n",
        "def entropy(data):\n",
        "    labels = [row[-1] for row in data]\n",
        "    label_counts = {}\n",
        "    for label in labels:\n",
        "        label_counts[label] = label_counts.get(label, 0) + 1\n",
        "    total = len(labels)\n",
        "    return -sum((count / total) * math.log2(count / total) for count in label_counts.values())\n"
      ],
      "metadata": {
        "id": "VDGFgphdtwZ-"
      },
      "execution_count": 9,
      "outputs": []
    },
    {
      "cell_type": "code",
      "source": [
        "def info_gain(data, feature_index):\n",
        "    total_entropy = entropy(data)\n",
        "    values = set(row[feature_index] for row in data)\n",
        "    subset_entropy = 0.0\n",
        "    for value in values:\n",
        "        subset = [row for row in data if row[feature_index] == value]\n",
        "        subset_entropy += len(subset) / len(data) * entropy(subset)\n",
        "    return total_entropy - subset_entropy\n"
      ],
      "metadata": {
        "id": "Lq_oSq4zuTnI"
      },
      "execution_count": 10,
      "outputs": []
    },
    {
      "cell_type": "code",
      "source": [
        "def build_tree(data, features):\n",
        "    labels = [row[-1] for row in data]\n",
        "\n",
        "    # If only one class remains\n",
        "    if labels.count(labels[0]) == len(labels):\n",
        "        return labels[0]\n",
        "\n",
        "    # If no features left\n",
        "    if len(features) == 0:\n",
        "        return max(set(labels), key=labels.count)\n",
        "\n",
        "    # Choose best feature\n",
        "    gains = [info_gain(data, i) for i in range(len(features))]\n",
        "    best_index = gains.index(max(gains))\n",
        "    best_feature = features[best_index]\n",
        "\n",
        "    tree = {best_feature: {}}\n",
        "    values = set(row[best_index] for row in data)\n",
        "\n",
        "    for value in values:\n",
        "        subset = [row[:best_index] + row[best_index+1:] for row in data if row[best_index] == value]\n",
        "        sub_features = features[:best_index] + features[best_index+1:]\n",
        "        subtree = build_tree(subset, sub_features)\n",
        "        tree[best_feature][value] = subtree\n",
        "\n",
        "    return tree\n"
      ],
      "metadata": {
        "id": "q4VZzq80u9c9"
      },
      "execution_count": 4,
      "outputs": []
    },
    {
      "cell_type": "code",
      "source": [
        "def predict(tree, features, instance):\n",
        "    if not isinstance(tree, dict):\n",
        "        return tree\n",
        "    root = next(iter(tree))\n",
        "    index = features.index(root)\n",
        "    value = instance[index]\n",
        "    subtree = tree[root].get(value)\n",
        "    if subtree is None:\n",
        "        return \"Unknown\"\n",
        "    return predict(subtree, features[:index] + features[index+1:], instance[:index] + instance[index+1:])\n"
      ],
      "metadata": {
        "id": "TiqY2-7ovBk0"
      },
      "execution_count": 5,
      "outputs": []
    },
    {
      "cell_type": "code",
      "source": [
        "# Build the decision tree\n",
        "tree = build_tree(dataset, features)\n",
        "print(\"Decision Tree:\")\n",
        "print(tree)\n",
        "\n",
        "# Predict example\n",
        "test_instance = ['Sunny', 'Cool', 'High', 'Strong']\n",
        "result = predict(tree, features, test_instance)\n",
        "print(f\"Prediction for {test_instance}: {result}\")\n"
      ],
      "metadata": {
        "colab": {
          "base_uri": "https://localhost:8080/"
        },
        "id": "Jd4YkSiKvFcn",
        "outputId": "13171391-3712-4ef3-987a-b00a45a97ac7"
      },
      "execution_count": 6,
      "outputs": [
        {
          "output_type": "stream",
          "name": "stdout",
          "text": [
            "Decision Tree:\n",
            "{'Outlook': {'Sunny': {'Humidity': {'High': 'No', 'Normal': 'Yes'}}, 'Overcast': 'Yes', 'Rain': {'Wind': {'Strong': 'No', 'Weak': 'Yes'}}}}\n",
            "Prediction for ['Sunny', 'Cool', 'High', 'Strong']: No\n"
          ]
        }
      ]
    },
    {
      "cell_type": "code",
      "source": [
        "def print_tree(tree, indent=\"\"):\n",
        "    if not isinstance(tree, dict):\n",
        "        print(indent + \"Predict:\", tree)\n",
        "        return\n",
        "    for key, value in tree.items():\n",
        "        for val, subtree in value.items():\n",
        "            print(indent + f\"{key} = {val}\")\n",
        "            print_tree(subtree, indent + \"   \")\n"
      ],
      "metadata": {
        "id": "qPU9zeK2yCPc"
      },
      "execution_count": 11,
      "outputs": []
    },
    {
      "cell_type": "code",
      "source": [
        "print(\"Decision Tree:\")\n",
        "print_tree(tree)\n"
      ],
      "metadata": {
        "colab": {
          "base_uri": "https://localhost:8080/"
        },
        "id": "cxwwAxt8yFjV",
        "outputId": "6c0f049e-6bec-4878-c539-9c93172c5aa5"
      },
      "execution_count": 12,
      "outputs": [
        {
          "output_type": "stream",
          "name": "stdout",
          "text": [
            "Decision Tree:\n",
            "Outlook = Sunny\n",
            "   Humidity = High\n",
            "      Predict: No\n",
            "   Humidity = Normal\n",
            "      Predict: Yes\n",
            "Outlook = Overcast\n",
            "   Predict: Yes\n",
            "Outlook = Rain\n",
            "   Wind = Strong\n",
            "      Predict: No\n",
            "   Wind = Weak\n",
            "      Predict: Yes\n"
          ]
        }
      ]
    },
    {
      "cell_type": "code",
      "source": [
        "from graphviz import Digraph\n",
        "import uuid\n",
        "\n",
        "def build_graph(tree, dot=None, parent=None, edge_label=\"\"):\n",
        "    if dot is None:\n",
        "        dot = Digraph()\n",
        "\n",
        "    if not isinstance(tree, dict):\n",
        "        node_id = str(uuid.uuid4())\n",
        "        dot.node(node_id, f\"Predict: {tree}\", shape='box', style='filled', color='lightblue')\n",
        "        if parent:\n",
        "            dot.edge(parent, node_id, label=edge_label)\n",
        "        return dot\n",
        "\n",
        "    root = next(iter(tree))\n",
        "    node_id = str(uuid.uuid4())\n",
        "    dot.node(node_id, root, shape='ellipse', style='filled', color='lightgreen')\n",
        "\n",
        "    if parent:\n",
        "        dot.edge(parent, node_id, label=edge_label)\n",
        "\n",
        "    for value, subtree in tree[root].items():\n",
        "        build_graph(subtree, dot, node_id, str(value))\n",
        "\n",
        "    return dot\n"
      ],
      "metadata": {
        "id": "VW4sjfV6yM6i"
      },
      "execution_count": 14,
      "outputs": []
    },
    {
      "cell_type": "code",
      "source": [
        "graph = build_graph(tree)\n",
        "graph.render('decision_tree', view=True, format='png')  # saves and opens the tree as image\n"
      ],
      "metadata": {
        "colab": {
          "base_uri": "https://localhost:8080/",
          "height": 35
        },
        "id": "yic99GXHyU4j",
        "outputId": "ad6b946a-dfe9-491e-c7da-8ba1fa88ce73"
      },
      "execution_count": 15,
      "outputs": [
        {
          "output_type": "execute_result",
          "data": {
            "text/plain": [
              "'decision_tree.png'"
            ],
            "application/vnd.google.colaboratory.intrinsic+json": {
              "type": "string"
            }
          },
          "metadata": {},
          "execution_count": 15
        }
      ]
    }
  ]
}