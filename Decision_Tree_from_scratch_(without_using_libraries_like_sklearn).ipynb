{
  "cells": [
    {
      "cell_type": "markdown",
      "metadata": {
        "colab_type": "text",
        "id": "view-in-github"
      },
      "source": [
        "<a href=\"https://colab.research.google.com/github/tashfeen786/Decision_Tree_from_scratch_-without_using_libraries_like_sklearn/blob/main/Decision_Tree_from_scratch_(without_using_libraries_like_sklearn).ipynb\" target=\"_parent\"><img src=\"https://colab.research.google.com/assets/colab-badge.svg\" alt=\"Open In Colab\"/></a>"
      ]
    },
    {
      "cell_type": "code",
      "execution_count": 1,
      "metadata": {
        "id": "PbOgFcNDpke1"
      },
      "outputs": [],
      "source": [
        "# Sample dataset\n",
        "dataset = [\n",
        "    ['Sunny', 'Hot', 'High', 'Weak', 'No'],\n",
        "    ['Sunny', 'Hot', 'High', 'Strong', 'No'],\n",
        "    ['Overcast', 'Hot', 'High', 'Weak', 'Yes'],\n",
        "    ['Rain', 'Mild', 'High', 'Weak', 'Yes'],\n",
        "    ['Rain', 'Cool', 'Normal', 'Weak', 'Yes'],\n",
        "    ['Rain', 'Cool', 'Normal', 'Strong', 'No'],\n",
        "    ['Overcast', 'Cool', 'Normal', 'Strong', 'Yes'],\n",
        "    ['Sunny', 'Mild', 'High', 'Weak', 'No'],\n",
        "    ['Sunny', 'Cool', 'Normal', 'Weak', 'Yes'],\n",
        "    ['Rain', 'Mild', 'Normal', 'Weak', 'Yes'],\n",
        "    ['Sunny', 'Mild', 'Normal', 'Strong', 'Yes'],\n",
        "    ['Overcast', 'Mild', 'High', 'Strong', 'Yes'],\n",
        "    ['Overcast', 'Hot', 'Normal', 'Weak', 'Yes'],\n",
        "    ['Rain', 'Mild', 'High', 'Strong', 'No']\n",
        "]\n",
        "\n",
        "features = ['Outlook', 'Temperature', 'Humidity', 'Wind']\n"
      ]
    },
    {
      "cell_type": "code",
      "execution_count": 2,
      "metadata": {
        "id": "VDGFgphdtwZ-"
      },
      "outputs": [],
      "source": [
        "import math\n",
        "\n",
        "def entropy(data):\n",
        "    labels = [row[-1] for row in data]\n",
        "    label_counts = {}\n",
        "    for label in labels:\n",
        "        label_counts[label] = label_counts.get(label, 0) + 1\n",
        "    total = len(labels)\n",
        "    return -sum((count / total) * math.log2(count / total) for count in label_counts.values())\n"
      ]
    },
    {
      "cell_type": "code",
      "execution_count": 3,
      "metadata": {
        "id": "Lq_oSq4zuTnI"
      },
      "outputs": [],
      "source": [
        "def info_gain(data, feature_index):\n",
        "    total_entropy = entropy(data)\n",
        "    values = set(row[feature_index] for row in data)\n",
        "    subset_entropy = 0.0\n",
        "    for value in values:\n",
        "        subset = [row for row in data if row[feature_index] == value]\n",
        "        subset_entropy += len(subset) / len(data) * entropy(subset)\n",
        "    return total_entropy - subset_entropy\n"
      ]
    },
    {
      "cell_type": "code",
      "execution_count": 4,
      "metadata": {
        "id": "q4VZzq80u9c9"
      },
      "outputs": [],
      "source": [
        "def build_tree(data, features):\n",
        "    labels = [row[-1] for row in data]\n",
        "\n",
        "    # If only one class remains\n",
        "    if labels.count(labels[0]) == len(labels):\n",
        "        return labels[0]\n",
        "\n",
        "    # If no features left\n",
        "    if len(features) == 0:\n",
        "        return max(set(labels), key=labels.count)\n",
        "\n",
        "    # Choose best feature\n",
        "    gains = [info_gain(data, i) for i in range(len(features))]\n",
        "    best_index = gains.index(max(gains))\n",
        "    best_feature = features[best_index]\n",
        "\n",
        "    tree = {best_feature: {}}\n",
        "    values = set(row[best_index] for row in data)\n",
        "\n",
        "    for value in values:\n",
        "        subset = [row[:best_index] + row[best_index+1:] for row in data if row[best_index] == value]\n",
        "        sub_features = features[:best_index] + features[best_index+1:]\n",
        "        subtree = build_tree(subset, sub_features)\n",
        "        tree[best_feature][value] = subtree\n",
        "\n",
        "    return tree\n"
      ]
    },
    {
      "cell_type": "code",
      "execution_count": 5,
      "metadata": {
        "id": "TiqY2-7ovBk0"
      },
      "outputs": [],
      "source": [
        "def predict(tree, features, instance):\n",
        "    if not isinstance(tree, dict):\n",
        "        return tree\n",
        "    root = next(iter(tree))\n",
        "    index = features.index(root)\n",
        "    value = instance[index]\n",
        "    subtree = tree[root].get(value)\n",
        "    if subtree is None:\n",
        "        return \"Unknown\"\n",
        "    return predict(subtree, features[:index] + features[index+1:], instance[:index] + instance[index+1:])\n"
      ]
    },
    {
      "cell_type": "code",
      "execution_count": 6,
      "metadata": {
        "colab": {
          "base_uri": "https://localhost:8080/"
        },
        "id": "Jd4YkSiKvFcn",
        "outputId": "13171391-3712-4ef3-987a-b00a45a97ac7"
      },
      "outputs": [
        {
          "name": "stdout",
          "output_type": "stream",
          "text": [
            "Decision Tree:\n",
            "{'Outlook': {'Sunny': {'Humidity': {'Normal': 'Yes', 'High': 'No'}}, 'Rain': {'Wind': {'Strong': 'No', 'Weak': 'Yes'}}, 'Overcast': 'Yes'}}\n",
            "Prediction for ['Sunny', 'Cool', 'High', 'Strong']: No\n"
          ]
        }
      ],
      "source": [
        "# Build the decision tree\n",
        "tree = build_tree(dataset, features)\n",
        "print(\"Decision Tree:\")\n",
        "print(tree)\n",
        "\n",
        "# Predict example\n",
        "test_instance = ['Sunny', 'Cool', 'High', 'Strong']\n",
        "result = predict(tree, features, test_instance)\n",
        "print(f\"Prediction for {test_instance}: {result}\")\n"
      ]
    },
    {
      "cell_type": "code",
      "execution_count": 7,
      "metadata": {
        "id": "qPU9zeK2yCPc"
      },
      "outputs": [],
      "source": [
        "def print_tree(tree, indent=\"\"):\n",
        "    if not isinstance(tree, dict):\n",
        "        print(indent + \"Predict:\", tree)\n",
        "        return\n",
        "    for key, value in tree.items():\n",
        "        for val, subtree in value.items():\n",
        "            print(indent + f\"{key} = {val}\")\n",
        "            print_tree(subtree, indent + \"   \")\n"
      ]
    },
    {
      "cell_type": "code",
      "execution_count": 8,
      "metadata": {
        "colab": {
          "base_uri": "https://localhost:8080/"
        },
        "id": "cxwwAxt8yFjV",
        "outputId": "6c0f049e-6bec-4878-c539-9c93172c5aa5"
      },
      "outputs": [
        {
          "name": "stdout",
          "output_type": "stream",
          "text": [
            "Decision Tree:\n",
            "Outlook = Sunny\n",
            "   Humidity = Normal\n",
            "      Predict: Yes\n",
            "   Humidity = High\n",
            "      Predict: No\n",
            "Outlook = Rain\n",
            "   Wind = Strong\n",
            "      Predict: No\n",
            "   Wind = Weak\n",
            "      Predict: Yes\n",
            "Outlook = Overcast\n",
            "   Predict: Yes\n"
          ]
        }
      ],
      "source": [
        "print(\"Decision Tree:\")\n",
        "print_tree(tree)\n"
      ]
    },
    {
      "cell_type": "code",
      "execution_count": 9,
      "metadata": {
        "id": "VW4sjfV6yM6i"
      },
      "outputs": [],
      "source": [
        "from graphviz import Digraph\n",
        "import uuid\n",
        "\n",
        "def build_graph(tree, dot=None, parent=None, edge_label=\"\"):\n",
        "    if dot is None:\n",
        "        dot = Digraph()\n",
        "\n",
        "    if not isinstance(tree, dict):\n",
        "        node_id = str(uuid.uuid4())\n",
        "        dot.node(node_id, f\"Predict: {tree}\", shape='box', style='filled', color='lightblue')\n",
        "        if parent:\n",
        "            dot.edge(parent, node_id, label=edge_label)\n",
        "        return dot\n",
        "\n",
        "    root = next(iter(tree))\n",
        "    node_id = str(uuid.uuid4())\n",
        "    dot.node(node_id, root, shape='ellipse', style='filled', color='lightgreen')\n",
        "\n",
        "    if parent:\n",
        "        dot.edge(parent, node_id, label=edge_label)\n",
        "\n",
        "    for value, subtree in tree[root].items():\n",
        "        build_graph(subtree, dot, node_id, str(value))\n",
        "\n",
        "    return dot\n"
      ]
    },
    {
      "cell_type": "code",
      "execution_count": null,
      "metadata": {
        "colab": {
          "base_uri": "https://localhost:8080/",
          "height": 35
        },
        "id": "yic99GXHyU4j",
        "outputId": "ad6b946a-dfe9-491e-c7da-8ba1fa88ce73"
      },
      "outputs": [],
      "source": [
        "graph = build_graph(tree)\n",
        "graph.render('decision_tree', view=True, format='png')  # saves and opens the tree as image\n"
      ]
    }
  ],
  "metadata": {
    "colab": {
      "authorship_tag": "ABX9TyNTm1RXrN73iB9jqF52GuiX",
      "include_colab_link": true,
      "provenance": []
    },
    "kernelspec": {
      "display_name": "myenv",
      "language": "python",
      "name": "python3"
    },
    "language_info": {
      "codemirror_mode": {
        "name": "ipython",
        "version": 3
      },
      "file_extension": ".py",
      "mimetype": "text/x-python",
      "name": "python",
      "nbconvert_exporter": "python",
      "pygments_lexer": "ipython3",
      "version": "3.9.23"
    }
  },
  "nbformat": 4,
  "nbformat_minor": 0
}
